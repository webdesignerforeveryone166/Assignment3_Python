{
 "cells": [
  {
   "cell_type": "markdown",
   "metadata": {},
   "source": [
    "# Assignment 3"
   ]
  },
  {
   "cell_type": "code",
   "execution_count": 1,
   "metadata": {},
   "outputs": [],
   "source": [
    "# Question 1"
   ]
  },
  {
   "cell_type": "code",
   "execution_count": 33,
   "metadata": {},
   "outputs": [
    {
     "name": "stdout",
     "output_type": "stream",
     "text": [
      "I love LetsUpgrade.\n",
      "I am Arpit and i am so glad to join this platform.\n",
      "\n"
     ]
    }
   ],
   "source": [
    "file = open('mbox.txt','w') # open a file in write mode\n",
    "file.write('I love LetsUpgrade.\\n') # Wriiten in file\n",
    "file.close()\n",
    "file = open('mbox.txt','r')\n",
    "file = open('mbox.txt','a') # Appending data into file.\n",
    "file.write('I am Arpit and i am so glad to join this platform.\\n')\n",
    "file.close()\n",
    "file = open('mbox.txt','r')\n",
    "print(file.read())\n",
    "\n"
   ]
  },
  {
   "cell_type": "code",
   "execution_count": 34,
   "metadata": {},
   "outputs": [],
   "source": [
    "# Question 2 for function of factorial"
   ]
  },
  {
   "cell_type": "code",
   "execution_count": 41,
   "metadata": {},
   "outputs": [
    {
     "name": "stdout",
     "output_type": "stream",
     "text": [
      "Enter the number:4\n"
     ]
    },
    {
     "data": {
      "text/plain": [
       "24"
      ]
     },
     "execution_count": 41,
     "metadata": {},
     "output_type": "execute_result"
    }
   ],
   "source": [
    "def factorial(num):\n",
    "    if num == 1:\n",
    "       return num\n",
    "    elif num < 1:\n",
    "       return (\"NA\")\n",
    "    else:\n",
    "       return num*factorial(num-1)\n",
    "factorial(int(input('Enter the number:')))"
   ]
  },
  {
   "cell_type": "markdown",
   "metadata": {},
   "source": [
    "# Assignment Complete"
   ]
  }
 ],
 "metadata": {
  "kernelspec": {
   "display_name": "Python 3",
   "language": "python",
   "name": "python3"
  },
  "language_info": {
   "codemirror_mode": {
    "name": "ipython",
    "version": 3
   },
   "file_extension": ".py",
   "mimetype": "text/x-python",
   "name": "python",
   "nbconvert_exporter": "python",
   "pygments_lexer": "ipython3",
   "version": "3.8.3"
  }
 },
 "nbformat": 4,
 "nbformat_minor": 4
}
